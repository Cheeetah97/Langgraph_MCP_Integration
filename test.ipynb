{
 "cells": [
  {
   "cell_type": "code",
   "execution_count": 1,
   "id": "534e2dce",
   "metadata": {},
   "outputs": [],
   "source": [
    "from agent import agent"
   ]
  },
  {
   "cell_type": "code",
   "execution_count": 2,
   "id": "076e1772",
   "metadata": {},
   "outputs": [
    {
     "name": "stdout",
     "output_type": "stream",
     "text": [
      "Find article on the history of the Eiffel Tower\n",
      "Find article on the history of the Eiffel Tower\n"
     ]
    },
    {
     "name": "stderr",
     "output_type": "stream",
     "text": [
      "Task agent with path ('__pregel_pull', 'agent') wrote to unknown channel branch:to:__end__, ignoring it.\n"
     ]
    },
    {
     "name": "stdout",
     "output_type": "stream",
     "text": [
      "Output = {'date': '2025-06-13', 'title': \"Eiffel Tower's History From Design To Iconic Landmark\", 'summary': \"The Eiffel Tower, designed by engineers Maurice Koechlin and Émile Nouguier and built by Gustave Eiffel's company from 1887 to 1889, was created as the centerpiece for the 1889 World's Fair in Paris. Initially criticized by artists and intellectuals, it became the tallest man-made structure of its time and evolved into a global cultural icon of France, serving various roles including radio transmissions and wartime communications. Today, it remains the most visited paid monument worldwide, symbolizing French ingenuity and history.\", 'url': 'https://en.wikipedia.org/wiki/Eiffel_Tower', 'keywords': ['Eiffel Tower', 'Gustave Eiffel', \"1889 World's Fair\", 'Maurice Koechlin', 'Émile Nouguier', 'Paris', 'French Revolution Centennial', 'Structural Engineering', 'Cultural Icon', 'Radio Telegraphy', 'World War I', 'Tourism']}\n"
     ]
    }
   ],
   "source": [
    "input_message = \"Find article on the history of the Eiffel Tower\"\n",
    "async for event in agent.astream({\"messages\": [{\"role\": \"user\", \"content\": input_message}]}, stream_mode = \"values\"):\n",
    "    latest_message = event[\"messages\"][-1]\n",
    "    print(latest_message.content)"
   ]
  },
  {
   "cell_type": "code",
   "execution_count": null,
   "id": "90ba4ab1",
   "metadata": {},
   "outputs": [],
   "source": []
  }
 ],
 "metadata": {
  "kernelspec": {
   "display_name": "venv",
   "language": "python",
   "name": "python3"
  },
  "language_info": {
   "codemirror_mode": {
    "name": "ipython",
    "version": 3
   },
   "file_extension": ".py",
   "mimetype": "text/x-python",
   "name": "python",
   "nbconvert_exporter": "python",
   "pygments_lexer": "ipython3",
   "version": "3.12.8"
  }
 },
 "nbformat": 4,
 "nbformat_minor": 5
}
