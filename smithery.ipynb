{
 "cells": [
  {
   "cell_type": "code",
   "execution_count": null,
   "id": "8a2caa11",
   "metadata": {},
   "outputs": [
    {
     "data": {
      "text/plain": [
       "True"
      ]
     },
     "execution_count": 2,
     "metadata": {},
     "output_type": "execute_result"
    }
   ],
   "source": [
    "import requests\n",
    "from urllib.parse import quote\n",
    "import os\n",
    "import json\n",
    "from dotenv import load_dotenv\n",
    "\n",
    "load_dotenv()"
   ]
  },
  {
   "cell_type": "code",
   "execution_count": null,
   "id": "d11c69f9",
   "metadata": {},
   "outputs": [
    {
     "name": "stdout",
     "output_type": "stream",
     "text": [
      "{\n",
      "  \"servers\": [\n",
      "    {\n",
      "      \"qualifiedName\": \"@browserbasehq/mcp-stagehand\",\n",
      "      \"displayName\": \"Stagehand\",\n",
      "      \"description\": \"Provides cloud browser automation capabilities using Stagehand, enabling LLMs to interact with web pages, take screenshots, and execute JavaScript in a cloud browser environment.\",\n",
      "      \"createdAt\": \"2024-12-13T15:47:00.724Z\",\n",
      "      \"useCount\": 767,\n",
      "      \"homepage\": \"https://smithery.ai/server/@browserbasehq/mcp-stagehand\"\n",
      "    },\n",
      "    {\n",
      "      \"qualifiedName\": \"@diulela/browser-tools-mcp\",\n",
      "      \"displayName\": \"BrowserTools\",\n",
      "      \"description\": \"Enable AI-powered applications to monitor and interact with your browser seamlessly. Capture browser data, run audits for accessibility, performance, SEO, and best practices, and analyze web pages directly from your IDE. Enhance your AI tools' awareness and capabilities with real-time browser insights and automated audits.\",\n",
      "      \"createdAt\": \"2025-05-21T02:09:24.248Z\",\n",
      "      \"useCount\": 911,\n",
      "      \"homepage\": \"https://smithery.ai/server/@diulela/browser-tools-mcp\"\n",
      "    },\n",
      "    {\n",
      "      \"qualifiedName\": \"@showfive/playwright-mcp-server\",\n",
      "      \"displayName\": \"Playwright\",\n",
      "      \"description\": \"Control browsers and automate web interactions seamlessly.\",\n",
      "      \"createdAt\": \"2025-02-09T04:00:16.589Z\",\n",
      "      \"useCount\": 267,\n",
      "      \"homepage\": \"https://smithery.ai/server/@showfive/playwright-mcp-server\"\n",
      "    },\n",
      "    {\n",
      "      \"qualifiedName\": \"@eyalzh/browser-control-mcp\",\n",
      "      \"displayName\": \"Browser Control\",\n",
      "      \"description\": \"Control your local browser seamlessly with LLM clients. Manage tabs, search history, and read content directly from your browser using intuitive commands. Enhance your browsing experience by integrating it with powerful language models.\",\n",
      "      \"createdAt\": \"2025-04-08T13:00:57.949Z\",\n",
      "      \"useCount\": 148,\n",
      "      \"homepage\": \"https://smithery.ai/server/@eyalzh/browser-control-mcp\"\n",
      "    },\n",
      "    {\n",
      "      \"qualifiedName\": \"@dmaznest/browsercat-mcp-server\",\n",
      "      \"displayName\": \"BrowserCat Remote Browser Automation Server\",\n",
      "      \"description\": \"Enable LLMs to automate web browsing tasks remotely using BrowserCat's cloud browser service. Perform actions like navigation, clicking, form filling, screenshot capture, and JavaScript execution without local browser installation. Monitor browser console logs and interact with web pages seamlessly through this MCP server.\",\n",
      "      \"createdAt\": \"2025-05-06T04:47:22.654Z\",\n",
      "      \"useCount\": 2915,\n",
      "      \"homepage\": \"https://smithery.ai/server/@dmaznest/browsercat-mcp-server\"\n",
      "    },\n",
      "    {\n",
      "      \"qualifiedName\": \"pocketbase-server\",\n",
      "      \"displayName\": \"Advanced PocketBase Server V2\",\n",
      "      \"description\": \"*Updated April 4rd 2025* \\n\\n\\n\\nAn MCP server for interacting with PocketBase databases, offering advanced database operations and schema management.\",\n",
      "      \"createdAt\": \"2024-12-20T07:58:02.994Z\",\n",
      "      \"useCount\": 731,\n",
      "      \"homepage\": \"https://smithery.ai/server/pocketbase-server\"\n",
      "    },\n",
      "    {\n",
      "      \"qualifiedName\": \"@hyeongjun-dev/metabase-mcp-server\",\n",
      "      \"displayName\": \"Metabase MCP\",\n",
      "      \"description\": \"Connect AI assistants to your Metabase analytics platform. Access dashboards, execute queries, and retrieve data seamlessly through conversational interfaces. Enhance your analytics experience with structured data access and robust error handling.\",\n",
      "      \"createdAt\": \"2025-04-13T15:06:45.782Z\",\n",
      "      \"useCount\": 443,\n",
      "      \"homepage\": \"https://smithery.ai/server/@hyeongjun-dev/metabase-mcp-server\"\n",
      "    },\n",
      "    {\n",
      "      \"qualifiedName\": \"airtable-server\",\n",
      "      \"displayName\": \"Airtable Server\",\n",
      "      \"description\": \"An Airtable Model Context Protocol Server enabling programmatic management of Airtable bases, tables, fields, and records.\",\n",
      "      \"createdAt\": \"2024-12-19T16:08:19.922Z\",\n",
      "      \"useCount\": 3148,\n",
      "      \"homepage\": \"https://smithery.ai/server/airtable-server\"\n",
      "    },\n",
      "    {\n",
      "      \"qualifiedName\": \"@hyperbrowserai/mcp\",\n",
      "      \"displayName\": \"Hyperbrowser\",\n",
      "      \"description\": \"Scrape, extract structured data, and crawl webpages effortlessly. Enhance your applications with powerful web scraping capabilities and structured data extraction tools.\",\n",
      "      \"createdAt\": \"2025-03-14T05:18:14.995Z\",\n",
      "      \"useCount\": 2068,\n",
      "      \"homepage\": \"https://smithery.ai/server/@hyperbrowserai/mcp\"\n",
      "    },\n",
      "    {\n",
      "      \"qualifiedName\": \"@cheukyin175/metabase-mcp\",\n",
      "      \"displayName\": \"Metabase Analytics Integration Server\",\n",
      "      \"description\": \"Enable AI assistants to seamlessly interact with your Metabase analytics platform. Access dashboards, cards, databases, and execute queries through a unified conversational interface. Simplify data-driven decision making by bridging your analytics with powerful AI capabilities.\",\n",
      "      \"createdAt\": \"2025-04-16T14:32:38.627Z\",\n",
      "      \"useCount\": 237,\n",
      "      \"homepage\": \"https://smithery.ai/server/@cheukyin175/metabase-mcp\"\n",
      "    }\n",
      "  ],\n",
      "  \"pagination\": {\n",
      "    \"currentPage\": 1,\n",
      "    \"pageSize\": 10,\n",
      "    \"totalPages\": 157,\n",
      "    \"totalCount\": 1566\n",
      "  }\n",
      "}\n"
     ]
    }
   ],
   "source": [
    "api_key = os.getenv('SMITHERY_API_KEY')\n",
    "query = 'browserbase'\n",
    "encoded_query = quote(query)\n",
    "\n",
    "response = requests.get(\n",
    "    f'https://registry.smithery.ai/servers?q={encoded_query}&page=1&pageSize=10',\n",
    "    headers={\n",
    "        'Authorization': f'Bearer {api_key}',\n",
    "        'Accept': 'application/json'\n",
    "    }\n",
    ")\n",
    "\n",
    "data = response.json()\n",
    "print(json.dumps(data, indent=2))"
   ]
  }
 ],
 "metadata": {
  "kernelspec": {
   "display_name": "venv",
   "language": "python",
   "name": "python3"
  },
  "language_info": {
   "codemirror_mode": {
    "name": "ipython",
    "version": 3
   },
   "file_extension": ".py",
   "mimetype": "text/x-python",
   "name": "python",
   "nbconvert_exporter": "python",
   "pygments_lexer": "ipython3",
   "version": "3.12.8"
  }
 },
 "nbformat": 4,
 "nbformat_minor": 5
}
